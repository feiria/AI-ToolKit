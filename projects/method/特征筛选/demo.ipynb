{
 "cells": [
  {
   "cell_type": "markdown",
   "metadata": {
    "collapsed": true,
    "pycharm": {
     "name": "#%% md\n"
    }
   },
   "source": [
    "对抗验证"
   ]
  },
  {
   "cell_type": "code",
   "execution_count": null,
   "outputs": [],
   "source": [
    "from sklearn.metrics import auc\n",
    "from sklearn.model_selection import StratifiedKFold\n",
    "import numpy as np\n",
    "import pandas as pd\n",
    "import lightgbm as lgb\n",
    "\n",
    "\n",
    "def get_adv_feats(df_train, df_test, feats):\n",
    "    df_train['adv'] = 1\n",
    "    df_test['adv'] = 0\n",
    "    df = pd.concat([df_train, df_test]).reset_index(drop=True)\n",
    "    params = {\n",
    "        'learning_rate': 0.1,\n",
    "        'boosting_type': 'gbdt',\n",
    "        'objective': 'binary',\n",
    "        'metric': 'auc',\n",
    "        'seed': 2222,\n",
    "        'n_jobs': 4,\n",
    "        'verbose': -1,\n",
    "    }\n",
    "\n",
    "    fold_num = 5\n",
    "    seeds = [2023]\n",
    "    new_feats = []\n",
    "\n",
    "    for f in feats:\n",
    "        oof = np.zeros(len(df))\n",
    "        for seed in seeds:\n",
    "            kf = StratifiedKFold(n_splits=fold_num, shuffle=True, random_state=seed)\n",
    "            for fold, (train_index, val_index) in enumerate(kf.split(df[[f]], df['adv'])):\n",
    "                train_set = lgb.Dataset(df.loc[train_index, [f]], df.loc[train_index, ['adv']])\n",
    "                val_set = lgb.Dataset(df.loc[val_index, [f]], df.loc[val_index, ['adv']])\n",
    "                model = lgb.train(params, train_set, valid_sets=val_set, num_boost_round=10000,\n",
    "                                  callbacks=[lgb.early_stopping(100), lgb.log_evaluation(-1)])\n",
    "                oof[val_index] += model.predict(df.loc[val_index, [f]]) / len(seeds)\n",
    "                score = auc(df.loc[val_index, 'adv'], oof[val_index])\n",
    "                if score > 0.85:\n",
    "                    print('--------------------------------------', f, score)\n",
    "                else:\n",
    "                    new_feats.append(f)\n",
    "                break\n",
    "    return new_feats"
   ],
   "metadata": {
    "collapsed": false,
    "pycharm": {
     "name": "#%%\n"
    }
   }
  }
 ],
 "metadata": {
  "kernelspec": {
   "display_name": "Python 3",
   "language": "python",
   "name": "python3"
  },
  "language_info": {
   "codemirror_mode": {
    "name": "ipython",
    "version": 2
   },
   "file_extension": ".py",
   "mimetype": "text/x-python",
   "name": "python",
   "nbconvert_exporter": "python",
   "pygments_lexer": "ipython2",
   "version": "2.7.6"
  }
 },
 "nbformat": 4,
 "nbformat_minor": 0
}