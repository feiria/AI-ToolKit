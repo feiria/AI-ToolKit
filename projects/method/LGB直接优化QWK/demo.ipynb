{
 "cells": [
  {
   "cell_type": "code",
   "execution_count": null,
   "metadata": {
    "collapsed": true
   },
   "outputs": [],
   "source": [
    "import numpy as np\n",
    "import pandas as pd\n",
    "import lightgbm as lgb\n",
    "import optuna\n",
    "import warnings\n",
    "from matplotlib import pyplot as plt\n",
    "from sklearn.model_selection import KFold\n",
    "from sklearn.metrics import cohen_kappa_score"
   ]
  },
  {
   "cell_type": "code",
   "execution_count": null,
   "outputs": [],
   "source": [
    "warnings.simplefilter('ignore')"
   ],
   "metadata": {
    "collapsed": false,
    "pycharm": {
     "name": "#%%\n"
    }
   }
  },
  {
   "cell_type": "code",
   "execution_count": null,
   "outputs": [],
   "source": [
    "df = pd.read_csv(\"/kaggle/input/playground-series-s3e5/train.csv\")\n",
    "df_test = pd.read_csv(\"/kaggle/input/playground-series-s3e5/test.csv\")"
   ],
   "metadata": {
    "collapsed": false,
    "pycharm": {
     "name": "#%%\n"
    }
   }
  },
  {
   "cell_type": "code",
   "execution_count": null,
   "outputs": [],
   "source": [
    "df[\"quality\"].value_counts().sort_index()"
   ],
   "metadata": {
    "collapsed": false,
    "pycharm": {
     "name": "#%%\n"
    }
   }
  },
  {
   "cell_type": "markdown",
   "source": [
    "ordinary regression"
   ],
   "metadata": {
    "collapsed": false,
    "pycharm": {
     "name": "#%% md\n"
    }
   }
  },
  {
   "cell_type": "code",
   "execution_count": null,
   "outputs": [],
   "source": [
    "X = df.drop([\"Id\", \"quality\"], axis=1)\n",
    "y = df[\"quality\"]"
   ],
   "metadata": {
    "collapsed": false,
    "pycharm": {
     "name": "#%%\n"
    }
   }
  },
  {
   "cell_type": "code",
   "execution_count": null,
   "outputs": [],
   "source": [
    "def quadratic_weighted_kappa(preds, data):\n",
    "    y_true = data.get_label()\n",
    "    y_pred = preds.clip(3, 8).round()\n",
    "    qwk = cohen_kappa_score(y_true, y_pred, weights=\"quadratic\")\n",
    "    return 'QWK', qwk, True"
   ],
   "metadata": {
    "collapsed": false,
    "pycharm": {
     "name": "#%%\n"
    }
   }
  },
  {
   "cell_type": "code",
   "execution_count": null,
   "outputs": [],
   "source": [
    "params = {\n",
    "    \"objective\": \"regression\",\n",
    "    \"metric\": \"None\",\n",
    "    \"verbosity\": -1,\n",
    "    \"learning_rate\": 0.01,\n",
    "}\n",
    "\n",
    "preds_valid = np.zeros(len(df))\n",
    "\n",
    "kf = KFold(n_splits=5, shuffle=True, random_state=0)\n",
    "for idx_train, idx_valid in kf.split(df):\n",
    "    X_train = X.iloc[idx_train, :]\n",
    "    y_train = y.iloc[idx_train]\n",
    "    X_valid = X.iloc[idx_valid, :]\n",
    "    y_valid = y.iloc[idx_valid]\n",
    "\n",
    "    lgb_train = lgb.Dataset(X_train, y_train)\n",
    "    lgb_valid = lgb.Dataset(X_valid, y_valid)\n",
    "\n",
    "\n",
    "    callbacks = [\n",
    "        lgb.early_stopping(stopping_rounds=100, verbose=True),\n",
    "        lgb.log_evaluation(100)\n",
    "    ]\n",
    "\n",
    "    model = lgb.train(\n",
    "        params=params,\n",
    "        train_set=lgb_train,\n",
    "        num_boost_round=10000,\n",
    "        valid_sets=[lgb_valid],\n",
    "        valid_names=[\"valid\"],\n",
    "        feval=quadratic_weighted_kappa,\n",
    "        callbacks=callbacks\n",
    "    )\n",
    "\n",
    "    preds_valid[idx_valid] = model.predict(X_valid)"
   ],
   "metadata": {
    "collapsed": false,
    "pycharm": {
     "name": "#%%\n"
    }
   }
  },
  {
   "cell_type": "code",
   "execution_count": null,
   "outputs": [],
   "source": [
    "# without threshold optimization\n",
    "qwk = cohen_kappa_score(y, preds_valid.clip(3, 8).round(), weights=\"quadratic\")\n",
    "print(\"QWK:\", qwk)\n",
    "# QWK: 0.5117074248423772"
   ],
   "metadata": {
    "collapsed": false,
    "pycharm": {
     "name": "#%%\n"
    }
   }
  },
  {
   "cell_type": "code",
   "execution_count": null,
   "outputs": [],
   "source": [
    "# ref: https://blog.amedama.jp/entry/optuna-qwk-optimization\n",
    "class OptunaRounder:\n",
    "\n",
    "    def __init__(self, y_true, y_pred):\n",
    "        self.y_true = y_true\n",
    "        self.y_pred = y_pred\n",
    "        self.labels = np.unique(y_true)\n",
    "\n",
    "    def __call__(self, trial):\n",
    "        thresholds = []\n",
    "        for i in range(len(self.labels) - 1):\n",
    "            low = max(thresholds) if i > 0 else min(self.labels)\n",
    "            high = max(self.labels)\n",
    "            t = trial.suggest_uniform(f't{i}', low, high)\n",
    "            thresholds.append(t)\n",
    "        try:\n",
    "            opt_y_pred = self.adjust(self.y_pred, thresholds)\n",
    "        except: return 0\n",
    "        return cohen_kappa_score(self.y_true, opt_y_pred, weights='quadratic')\n",
    "\n",
    "    def adjust(self, y_pred, thresholds):\n",
    "        opt_y_pred = pd.cut(y_pred,\n",
    "                            [-np.inf] + thresholds + [np.inf],\n",
    "                            labels=self.labels)\n",
    "        return opt_y_pred"
   ],
   "metadata": {
    "collapsed": false,
    "pycharm": {
     "name": "#%%\n"
    }
   }
  },
  {
   "cell_type": "code",
   "execution_count": null,
   "outputs": [],
   "source": [
    "optuna.logging.set_verbosity(optuna.logging.WARNING)\n",
    "objective = OptunaRounder(y - y.min(), preds_valid - y.min())\n",
    "study = optuna.create_study(direction=\"maximize\", sampler=optuna.samplers.TPESampler(seed=0))\n",
    "study.optimize(objective, timeout=100)"
   ],
   "metadata": {
    "collapsed": false,
    "pycharm": {
     "name": "#%%\n"
    }
   }
  },
  {
   "cell_type": "code",
   "execution_count": null,
   "outputs": [],
   "source": [
    "best_thresholds = sorted(study.best_params.values())\n",
    "print(f'Optimized thresholds: {best_thresholds}')\n",
    "# Optimized thresholds: [1.6563933856306514, 1.8518486651366342, 2.507186761950873,\n",
    "# 3.1780508314616527, 3.564031124411718]"
   ],
   "metadata": {
    "collapsed": false,
    "pycharm": {
     "name": "#%%\n"
    }
   }
  },
  {
   "cell_type": "code",
   "execution_count": null,
   "outputs": [],
   "source": [
    "preds_opt = objective.adjust(preds_valid - y.min(), best_thresholds)\n",
    "preds_opt = preds_opt.astype(int) + y.min()\n",
    "qwk = cohen_kappa_score(y, preds_opt, weights=\"quadratic\")\n",
    "print(\"QWK:\", qwk)\n",
    "# QWK: 0.5413127048421356"
   ],
   "metadata": {
    "collapsed": false,
    "pycharm": {
     "name": "#%%\n"
    }
   }
  },
  {
   "cell_type": "markdown",
   "source": [
    "QWK objective\n"
   ],
   "metadata": {
    "collapsed": false
   }
  },
  {
   "cell_type": "code",
   "execution_count": null,
   "outputs": [],
   "source": [
    "a = 5.7\n",
    "b = 0.7\n",
    "g = np.zeros(6)\n",
    "for i in range(6):\n",
    "    g[i] = ((y - (i+3))**2).mean()\n",
    "plt.plot([3, 4, 5, 6, 7, 8], g, marker=\".\", label=\"actual\")\n",
    "plt.plot([3, 4, 5, 6, 7, 8], [(x-a)**2 + b for x in [3, 4, 5, 6, 7, 8]], label=\"fitting\")#%%\n",
    "plt.legend()\n",
    "plt.show()"
   ],
   "metadata": {
    "collapsed": false,
    "pycharm": {
     "name": "#%%\n"
    }
   }
  },
  {
   "cell_type": "code",
   "execution_count": null,
   "outputs": [],
   "source": [
    "y = df[\"quality\"] - a"
   ],
   "metadata": {
    "collapsed": false,
    "pycharm": {
     "name": "#%%\n"
    }
   }
  },
  {
   "cell_type": "code",
   "execution_count": null,
   "outputs": [],
   "source": [
    "def qwk_obj(preds, dtrain):\n",
    "    labels = dtrain.get_label() + a\n",
    "    preds = preds + a\n",
    "    preds = preds.clip(3, 8)\n",
    "    f = 1/2*np.sum((preds-labels)**2)\n",
    "    g = 1/2*np.sum((preds-a)**2+b)\n",
    "    df = preds - labels\n",
    "    dg = preds - a\n",
    "    grad = (df/g - f*dg/g**2)*len(labels)\n",
    "    hess = np.ones(len(labels))\n",
    "    return grad, hess"
   ],
   "metadata": {
    "collapsed": false,
    "pycharm": {
     "name": "#%%\n"
    }
   }
  },
  {
   "cell_type": "code",
   "execution_count": null,
   "outputs": [],
   "source": [
    "def quadratic_weighted_kappa(preds, data):\n",
    "    y_true = (data.get_label() + a).round()\n",
    "    y_pred = (preds+a).clip(3, 8).round()\n",
    "    qwk = cohen_kappa_score(y_true, y_pred, weights=\"quadratic\")\n",
    "    return 'QWK', qwk, True"
   ],
   "metadata": {
    "collapsed": false,
    "pycharm": {
     "name": "#%%\n"
    }
   }
  },
  {
   "cell_type": "code",
   "execution_count": null,
   "outputs": [],
   "source": [
    "\n",
    "params = {\n",
    "    \"metric\": \"None\",\n",
    "    \"verbosity\": -1,\n",
    "    \"learning_rate\": 0.01,\n",
    "}\n",
    "\n",
    "preds_valid = np.zeros(len(df))\n",
    "\n",
    "kf = KFold(n_splits=5, shuffle=True, random_state=0)\n",
    "for idx_train, idx_valid in kf.split(df):\n",
    "    X_train = X.iloc[idx_train, :]\n",
    "    y_train = y.iloc[idx_train]\n",
    "    X_valid = X.iloc[idx_valid, :]\n",
    "    y_valid = y.iloc[idx_valid]\n",
    "\n",
    "    lgb_train = lgb.Dataset(X_train, y_train)\n",
    "    lgb_valid = lgb.Dataset(X_valid, y_valid)\n",
    "\n",
    "    callbacks = [\n",
    "        lgb.early_stopping(stopping_rounds=100, verbose=True),\n",
    "        lgb.log_evaluation(100)\n",
    "    ]\n",
    "\n",
    "    model = lgb.train(\n",
    "        params=params,\n",
    "        train_set=lgb_train,\n",
    "        num_boost_round=10000,\n",
    "        valid_sets=[lgb_valid],\n",
    "        valid_names=[\"valid\"],\n",
    "        fobj=qwk_obj,\n",
    "        feval=quadratic_weighted_kappa,\n",
    "        callbacks=callbacks\n",
    "    )\n",
    "\n",
    "    preds_valid[idx_valid] = model.predict(X_valid) + a"
   ],
   "metadata": {
    "collapsed": false,
    "pycharm": {
     "name": "#%%\n"
    }
   }
  },
  {
   "cell_type": "code",
   "execution_count": null,
   "outputs": [],
   "source": [
    "y = df[\"quality\"]\n",
    "qwk = cohen_kappa_score(y, preds_valid.clip(3, 8).round(), weights=\"quadratic\")\n",
    "print(\"QWK:\", qwk)\n",
    "# QWK: 0.545001299987572"
   ],
   "metadata": {
    "collapsed": false,
    "pycharm": {
     "name": "#%%\n"
    }
   }
  }
 ],
 "metadata": {
  "kernelspec": {
   "display_name": "Python 3",
   "language": "python",
   "name": "python3"
  },
  "language_info": {
   "codemirror_mode": {
    "name": "ipython",
    "version": 2
   },
   "file_extension": ".py",
   "mimetype": "text/x-python",
   "name": "python",
   "nbconvert_exporter": "python",
   "pygments_lexer": "ipython2",
   "version": "2.7.6"
  }
 },
 "nbformat": 4,
 "nbformat_minor": 0
}